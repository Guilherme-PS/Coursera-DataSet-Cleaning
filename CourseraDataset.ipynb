{
  "nbformat": 4,
  "nbformat_minor": 0,
  "metadata": {
    "colab": {
      "provenance": [],
      "authorship_tag": "ABX9TyN8piNohpufc9LLgeTN19fq"
    },
    "kernelspec": {
      "name": "python3",
      "display_name": "Python 3"
    },
    "language_info": {
      "name": "python"
    }
  },
  "cells": [
    {
      "cell_type": "code",
      "execution_count": null,
      "metadata": {
        "id": "BQ1NM5X2TkKQ"
      },
      "outputs": [],
      "source": [
        "import pandas as pd\n",
        "import plotly.express as px\n",
        "import re"
      ]
    },
    {
      "cell_type": "code",
      "source": [
        "df = pd.read_csv(\"CourseraDataset.csv\")"
      ],
      "metadata": {
        "id": "qOa7Vvm7TtWe"
      },
      "execution_count": null,
      "outputs": []
    },
    {
      "cell_type": "markdown",
      "source": [
        "# DataSet Info\n"
      ],
      "metadata": {
        "id": "IkKGboI8rVJk"
      }
    },
    {
      "cell_type": "markdown",
      "source": [
        "#### Column Descriptions\n",
        "* **Course Title**: This column contains the title of the course offered on Coursera.\n",
        "* **Rating**: The rating column likely contains the average rating of the course, as provided by users who have completed the course. Ratings are often given on a scale, such as 1 to 5 stars.\n",
        "* **Level**: This column indicates the difficulty or complexity level of the course. It might categorize courses as beginner, intermediate, or advanced, for example.\n",
        "* **Duration**: This column specifies the approximate time required to complete the course.\n",
        "* **Schedule**: This column may specify the schedule or timing of the course, such as whether it is flexible schedule or hands-on learning.\n",
        "* **Review**: This column contains the count of reviews or ratings submitted by users who have completed the course. It provides an indication of the course's popularity and user satisfaction level.\n",
        "* **What you will learn**: This column likely outlines the learning objectives or topics covered in the course. It provides a summary of the knowledge or skills that participants can expect to gain.\n",
        "* **Skill gain**: This column may detail the specific skills that participants will acquire upon completion of the course.\n",
        "* **Modules**: The modules column likely lists the different sections or units that make up the course. It could provide an overview of the course's structure and organization.\n",
        "* **Instructor**: This column contains information about the instructor(s) or lecturer(s) who teach the course.\n",
        "* **Offered By**: This column likely specifies the institution or organization offering the course on the Coursera platform.\n",
        "* **Keyword**: This column may contain keywords or tags associated with the course, which can help users search for relevant courses based on specific topics or themes.\n",
        "* **Course Url**: This column likely contains the URL or web link to the course page on the Coursera platform.\n"
      ],
      "metadata": {
        "id": "dyia_2qfre1k"
      }
    },
    {
      "cell_type": "code",
      "source": [
        "print(f\"Shape: {df.shape}\")\n",
        "print(f\"Duplicates: {df.duplicated().sum()}\")\n",
        "print(f\"NaN Values: {df.isna().values.any()}\")"
      ],
      "metadata": {
        "colab": {
          "base_uri": "https://localhost:8080/"
        },
        "id": "SbxjeYNKi_Sv",
        "outputId": "e6f2a891-ab32-4363-ef78-24a77b3600e6"
      },
      "execution_count": null,
      "outputs": [
        {
          "output_type": "stream",
          "name": "stdout",
          "text": [
            "Shape: (9595, 13)\n",
            "Duplicates: 900\n",
            "NaN Values: True\n"
          ]
        }
      ]
    },
    {
      "cell_type": "code",
      "source": [
        "df.loc[800]"
      ],
      "metadata": {
        "colab": {
          "base_uri": "https://localhost:8080/"
        },
        "id": "7ib_nz9JzZUC",
        "outputId": "7509a5c6-b412-4467-85bb-391578429ab5"
      },
      "execution_count": null,
      "outputs": [
        {
          "output_type": "execute_result",
          "data": {
            "text/plain": [
              "Course Title                 Digital business - Act on the digital world\n",
              "Rating                                                               4.6\n",
              "Level                                                                NaN\n",
              "Duration                                        10 hours (approximately)\n",
              "Schedule                                               Flexible schedule\n",
              "Review                                                        22 reviews\n",
              "What you will learn                                                  NaN\n",
              "Skill gain                                                            []\n",
              "Modules                ['Big Picture', 'Operational Area', 'Focus Area']\n",
              "Instructor                          ['Thomas Houy', 'Valérie Fernandez']\n",
              "Offered By             ['École Polytechnique', 'Institut Mines-Télécom']\n",
              "Keyword                                                         Business\n",
              "Course Url             https://www.coursera.org/learn/act-on-digital-...\n",
              "Name: 800, dtype: object"
            ]
          },
          "metadata": {},
          "execution_count": 4
        }
      ]
    },
    {
      "cell_type": "code",
      "source": [
        "df.info()"
      ],
      "metadata": {
        "colab": {
          "base_uri": "https://localhost:8080/"
        },
        "id": "iz7XEXdMjDe7",
        "outputId": "0036aaaa-79d9-4d02-9dda-bfb37da680c2"
      },
      "execution_count": null,
      "outputs": [
        {
          "output_type": "stream",
          "name": "stdout",
          "text": [
            "<class 'pandas.core.frame.DataFrame'>\n",
            "RangeIndex: 9595 entries, 0 to 9594\n",
            "Data columns (total 13 columns):\n",
            " #   Column               Non-Null Count  Dtype  \n",
            "---  ------               --------------  -----  \n",
            " 0   Course Title         9595 non-null   object \n",
            " 1   Rating               8156 non-null   float64\n",
            " 2   Level                8330 non-null   object \n",
            " 3   Duration             9333 non-null   object \n",
            " 4   Schedule             8912 non-null   object \n",
            " 5   Review               8152 non-null   object \n",
            " 6   What you will learn  4984 non-null   object \n",
            " 7   Skill gain           9595 non-null   object \n",
            " 8   Modules              9595 non-null   object \n",
            " 9   Instructor           9595 non-null   object \n",
            " 10  Offered By           9595 non-null   object \n",
            " 11  Keyword              9595 non-null   object \n",
            " 12  Course Url           9595 non-null   object \n",
            "dtypes: float64(1), object(12)\n",
            "memory usage: 974.6+ KB\n"
          ]
        }
      ]
    },
    {
      "cell_type": "markdown",
      "source": [
        "# Data Cleaning"
      ],
      "metadata": {
        "id": "XKl6QbcuYSXH"
      }
    },
    {
      "cell_type": "markdown",
      "source": [
        "### NaN Values Present in the DataFrame\n",
        "\n"
      ],
      "metadata": {
        "id": "QzjbAl7AohlI"
      }
    },
    {
      "cell_type": "code",
      "source": [
        "# Creates a DataFrame with the percentage of NaN values for each column\n",
        "nan_values_pct = ((df.isna().sum() / df.shape[0]) * 100).to_frame().reset_index()\n",
        "# Rename the columns\n",
        "nan_values_pct.columns = [\"Column Name\", \"NaN Values PCT\"]\n",
        "# Sorting columns that have NaN values\n",
        "nan_values_pct = nan_values_pct.sort_values(by=\"NaN Values PCT\")\n",
        "\n",
        "# Plotting a bar chart with the NaN Values PCT DataFrame\n",
        "fig = px.bar(nan_values_pct, x=\"Column Name\", y=\"NaN Values PCT\", color_discrete_sequence=[\"darkred\"], title=\"NaN Values Present in the DataFrame\")\n",
        "fig.show()"
      ],
      "metadata": {
        "colab": {
          "base_uri": "https://localhost:8080/",
          "height": 542
        },
        "id": "qh3UKRMCbFpT",
        "outputId": "b1ffa785-3066-4617-dd3c-3545ac9f881d"
      },
      "execution_count": null,
      "outputs": [
        {
          "output_type": "display_data",
          "data": {
            "text/html": [
              "<html>\n",
              "<head><meta charset=\"utf-8\" /></head>\n",
              "<body>\n",
              "    <div>            <script src=\"https://cdnjs.cloudflare.com/ajax/libs/mathjax/2.7.5/MathJax.js?config=TeX-AMS-MML_SVG\"></script><script type=\"text/javascript\">if (window.MathJax && window.MathJax.Hub && window.MathJax.Hub.Config) {window.MathJax.Hub.Config({SVG: {font: \"STIX-Web\"}});}</script>                <script type=\"text/javascript\">window.PlotlyConfig = {MathJaxConfig: 'local'};</script>\n",
              "        <script charset=\"utf-8\" src=\"https://cdn.plot.ly/plotly-2.24.1.min.js\"></script>                <div id=\"f32bd3c0-3c07-41f9-ad7b-cc3b6c58ca9c\" class=\"plotly-graph-div\" style=\"height:525px; width:100%;\"></div>            <script type=\"text/javascript\">                                    window.PLOTLYENV=window.PLOTLYENV || {};                                    if (document.getElementById(\"f32bd3c0-3c07-41f9-ad7b-cc3b6c58ca9c\")) {                    Plotly.newPlot(                        \"f32bd3c0-3c07-41f9-ad7b-cc3b6c58ca9c\",                        [{\"alignmentgroup\":\"True\",\"hovertemplate\":\"Column Name=%{x}\\u003cbr\\u003eNaN Values PCT=%{y}\\u003cextra\\u003e\\u003c\\u002fextra\\u003e\",\"legendgroup\":\"\",\"marker\":{\"color\":\"darkred\",\"pattern\":{\"shape\":\"\"}},\"name\":\"\",\"offsetgroup\":\"\",\"orientation\":\"v\",\"showlegend\":false,\"textposition\":\"auto\",\"x\":[\"Course Title\",\"Skill gain\",\"Modules\",\"Instructor\",\"Offered By\",\"Keyword\",\"Course Url\",\"Duration\",\"Schedule\",\"Level\",\"Rating\",\"Review\",\"What you will learn\"],\"xaxis\":\"x\",\"y\":[0.0,0.0,0.0,0.0,0.0,0.0,0.0,2.73058884835852,7.118290776446065,13.183949973944763,14.997394476289735,15.039082855653987,48.05627931214174],\"yaxis\":\"y\",\"type\":\"bar\"}],                        {\"template\":{\"data\":{\"histogram2dcontour\":[{\"type\":\"histogram2dcontour\",\"colorbar\":{\"outlinewidth\":0,\"ticks\":\"\"},\"colorscale\":[[0.0,\"#0d0887\"],[0.1111111111111111,\"#46039f\"],[0.2222222222222222,\"#7201a8\"],[0.3333333333333333,\"#9c179e\"],[0.4444444444444444,\"#bd3786\"],[0.5555555555555556,\"#d8576b\"],[0.6666666666666666,\"#ed7953\"],[0.7777777777777778,\"#fb9f3a\"],[0.8888888888888888,\"#fdca26\"],[1.0,\"#f0f921\"]]}],\"choropleth\":[{\"type\":\"choropleth\",\"colorbar\":{\"outlinewidth\":0,\"ticks\":\"\"}}],\"histogram2d\":[{\"type\":\"histogram2d\",\"colorbar\":{\"outlinewidth\":0,\"ticks\":\"\"},\"colorscale\":[[0.0,\"#0d0887\"],[0.1111111111111111,\"#46039f\"],[0.2222222222222222,\"#7201a8\"],[0.3333333333333333,\"#9c179e\"],[0.4444444444444444,\"#bd3786\"],[0.5555555555555556,\"#d8576b\"],[0.6666666666666666,\"#ed7953\"],[0.7777777777777778,\"#fb9f3a\"],[0.8888888888888888,\"#fdca26\"],[1.0,\"#f0f921\"]]}],\"heatmap\":[{\"type\":\"heatmap\",\"colorbar\":{\"outlinewidth\":0,\"ticks\":\"\"},\"colorscale\":[[0.0,\"#0d0887\"],[0.1111111111111111,\"#46039f\"],[0.2222222222222222,\"#7201a8\"],[0.3333333333333333,\"#9c179e\"],[0.4444444444444444,\"#bd3786\"],[0.5555555555555556,\"#d8576b\"],[0.6666666666666666,\"#ed7953\"],[0.7777777777777778,\"#fb9f3a\"],[0.8888888888888888,\"#fdca26\"],[1.0,\"#f0f921\"]]}],\"heatmapgl\":[{\"type\":\"heatmapgl\",\"colorbar\":{\"outlinewidth\":0,\"ticks\":\"\"},\"colorscale\":[[0.0,\"#0d0887\"],[0.1111111111111111,\"#46039f\"],[0.2222222222222222,\"#7201a8\"],[0.3333333333333333,\"#9c179e\"],[0.4444444444444444,\"#bd3786\"],[0.5555555555555556,\"#d8576b\"],[0.6666666666666666,\"#ed7953\"],[0.7777777777777778,\"#fb9f3a\"],[0.8888888888888888,\"#fdca26\"],[1.0,\"#f0f921\"]]}],\"contourcarpet\":[{\"type\":\"contourcarpet\",\"colorbar\":{\"outlinewidth\":0,\"ticks\":\"\"}}],\"contour\":[{\"type\":\"contour\",\"colorbar\":{\"outlinewidth\":0,\"ticks\":\"\"},\"colorscale\":[[0.0,\"#0d0887\"],[0.1111111111111111,\"#46039f\"],[0.2222222222222222,\"#7201a8\"],[0.3333333333333333,\"#9c179e\"],[0.4444444444444444,\"#bd3786\"],[0.5555555555555556,\"#d8576b\"],[0.6666666666666666,\"#ed7953\"],[0.7777777777777778,\"#fb9f3a\"],[0.8888888888888888,\"#fdca26\"],[1.0,\"#f0f921\"]]}],\"surface\":[{\"type\":\"surface\",\"colorbar\":{\"outlinewidth\":0,\"ticks\":\"\"},\"colorscale\":[[0.0,\"#0d0887\"],[0.1111111111111111,\"#46039f\"],[0.2222222222222222,\"#7201a8\"],[0.3333333333333333,\"#9c179e\"],[0.4444444444444444,\"#bd3786\"],[0.5555555555555556,\"#d8576b\"],[0.6666666666666666,\"#ed7953\"],[0.7777777777777778,\"#fb9f3a\"],[0.8888888888888888,\"#fdca26\"],[1.0,\"#f0f921\"]]}],\"mesh3d\":[{\"type\":\"mesh3d\",\"colorbar\":{\"outlinewidth\":0,\"ticks\":\"\"}}],\"scatter\":[{\"fillpattern\":{\"fillmode\":\"overlay\",\"size\":10,\"solidity\":0.2},\"type\":\"scatter\"}],\"parcoords\":[{\"type\":\"parcoords\",\"line\":{\"colorbar\":{\"outlinewidth\":0,\"ticks\":\"\"}}}],\"scatterpolargl\":[{\"type\":\"scatterpolargl\",\"marker\":{\"colorbar\":{\"outlinewidth\":0,\"ticks\":\"\"}}}],\"bar\":[{\"error_x\":{\"color\":\"#2a3f5f\"},\"error_y\":{\"color\":\"#2a3f5f\"},\"marker\":{\"line\":{\"color\":\"#E5ECF6\",\"width\":0.5},\"pattern\":{\"fillmode\":\"overlay\",\"size\":10,\"solidity\":0.2}},\"type\":\"bar\"}],\"scattergeo\":[{\"type\":\"scattergeo\",\"marker\":{\"colorbar\":{\"outlinewidth\":0,\"ticks\":\"\"}}}],\"scatterpolar\":[{\"type\":\"scatterpolar\",\"marker\":{\"colorbar\":{\"outlinewidth\":0,\"ticks\":\"\"}}}],\"histogram\":[{\"marker\":{\"pattern\":{\"fillmode\":\"overlay\",\"size\":10,\"solidity\":0.2}},\"type\":\"histogram\"}],\"scattergl\":[{\"type\":\"scattergl\",\"marker\":{\"colorbar\":{\"outlinewidth\":0,\"ticks\":\"\"}}}],\"scatter3d\":[{\"type\":\"scatter3d\",\"line\":{\"colorbar\":{\"outlinewidth\":0,\"ticks\":\"\"}},\"marker\":{\"colorbar\":{\"outlinewidth\":0,\"ticks\":\"\"}}}],\"scattermapbox\":[{\"type\":\"scattermapbox\",\"marker\":{\"colorbar\":{\"outlinewidth\":0,\"ticks\":\"\"}}}],\"scatterternary\":[{\"type\":\"scatterternary\",\"marker\":{\"colorbar\":{\"outlinewidth\":0,\"ticks\":\"\"}}}],\"scattercarpet\":[{\"type\":\"scattercarpet\",\"marker\":{\"colorbar\":{\"outlinewidth\":0,\"ticks\":\"\"}}}],\"carpet\":[{\"aaxis\":{\"endlinecolor\":\"#2a3f5f\",\"gridcolor\":\"white\",\"linecolor\":\"white\",\"minorgridcolor\":\"white\",\"startlinecolor\":\"#2a3f5f\"},\"baxis\":{\"endlinecolor\":\"#2a3f5f\",\"gridcolor\":\"white\",\"linecolor\":\"white\",\"minorgridcolor\":\"white\",\"startlinecolor\":\"#2a3f5f\"},\"type\":\"carpet\"}],\"table\":[{\"cells\":{\"fill\":{\"color\":\"#EBF0F8\"},\"line\":{\"color\":\"white\"}},\"header\":{\"fill\":{\"color\":\"#C8D4E3\"},\"line\":{\"color\":\"white\"}},\"type\":\"table\"}],\"barpolar\":[{\"marker\":{\"line\":{\"color\":\"#E5ECF6\",\"width\":0.5},\"pattern\":{\"fillmode\":\"overlay\",\"size\":10,\"solidity\":0.2}},\"type\":\"barpolar\"}],\"pie\":[{\"automargin\":true,\"type\":\"pie\"}]},\"layout\":{\"autotypenumbers\":\"strict\",\"colorway\":[\"#636efa\",\"#EF553B\",\"#00cc96\",\"#ab63fa\",\"#FFA15A\",\"#19d3f3\",\"#FF6692\",\"#B6E880\",\"#FF97FF\",\"#FECB52\"],\"font\":{\"color\":\"#2a3f5f\"},\"hovermode\":\"closest\",\"hoverlabel\":{\"align\":\"left\"},\"paper_bgcolor\":\"white\",\"plot_bgcolor\":\"#E5ECF6\",\"polar\":{\"bgcolor\":\"#E5ECF6\",\"angularaxis\":{\"gridcolor\":\"white\",\"linecolor\":\"white\",\"ticks\":\"\"},\"radialaxis\":{\"gridcolor\":\"white\",\"linecolor\":\"white\",\"ticks\":\"\"}},\"ternary\":{\"bgcolor\":\"#E5ECF6\",\"aaxis\":{\"gridcolor\":\"white\",\"linecolor\":\"white\",\"ticks\":\"\"},\"baxis\":{\"gridcolor\":\"white\",\"linecolor\":\"white\",\"ticks\":\"\"},\"caxis\":{\"gridcolor\":\"white\",\"linecolor\":\"white\",\"ticks\":\"\"}},\"coloraxis\":{\"colorbar\":{\"outlinewidth\":0,\"ticks\":\"\"}},\"colorscale\":{\"sequential\":[[0.0,\"#0d0887\"],[0.1111111111111111,\"#46039f\"],[0.2222222222222222,\"#7201a8\"],[0.3333333333333333,\"#9c179e\"],[0.4444444444444444,\"#bd3786\"],[0.5555555555555556,\"#d8576b\"],[0.6666666666666666,\"#ed7953\"],[0.7777777777777778,\"#fb9f3a\"],[0.8888888888888888,\"#fdca26\"],[1.0,\"#f0f921\"]],\"sequentialminus\":[[0.0,\"#0d0887\"],[0.1111111111111111,\"#46039f\"],[0.2222222222222222,\"#7201a8\"],[0.3333333333333333,\"#9c179e\"],[0.4444444444444444,\"#bd3786\"],[0.5555555555555556,\"#d8576b\"],[0.6666666666666666,\"#ed7953\"],[0.7777777777777778,\"#fb9f3a\"],[0.8888888888888888,\"#fdca26\"],[1.0,\"#f0f921\"]],\"diverging\":[[0,\"#8e0152\"],[0.1,\"#c51b7d\"],[0.2,\"#de77ae\"],[0.3,\"#f1b6da\"],[0.4,\"#fde0ef\"],[0.5,\"#f7f7f7\"],[0.6,\"#e6f5d0\"],[0.7,\"#b8e186\"],[0.8,\"#7fbc41\"],[0.9,\"#4d9221\"],[1,\"#276419\"]]},\"xaxis\":{\"gridcolor\":\"white\",\"linecolor\":\"white\",\"ticks\":\"\",\"title\":{\"standoff\":15},\"zerolinecolor\":\"white\",\"automargin\":true,\"zerolinewidth\":2},\"yaxis\":{\"gridcolor\":\"white\",\"linecolor\":\"white\",\"ticks\":\"\",\"title\":{\"standoff\":15},\"zerolinecolor\":\"white\",\"automargin\":true,\"zerolinewidth\":2},\"scene\":{\"xaxis\":{\"backgroundcolor\":\"#E5ECF6\",\"gridcolor\":\"white\",\"linecolor\":\"white\",\"showbackground\":true,\"ticks\":\"\",\"zerolinecolor\":\"white\",\"gridwidth\":2},\"yaxis\":{\"backgroundcolor\":\"#E5ECF6\",\"gridcolor\":\"white\",\"linecolor\":\"white\",\"showbackground\":true,\"ticks\":\"\",\"zerolinecolor\":\"white\",\"gridwidth\":2},\"zaxis\":{\"backgroundcolor\":\"#E5ECF6\",\"gridcolor\":\"white\",\"linecolor\":\"white\",\"showbackground\":true,\"ticks\":\"\",\"zerolinecolor\":\"white\",\"gridwidth\":2}},\"shapedefaults\":{\"line\":{\"color\":\"#2a3f5f\"}},\"annotationdefaults\":{\"arrowcolor\":\"#2a3f5f\",\"arrowhead\":0,\"arrowwidth\":1},\"geo\":{\"bgcolor\":\"white\",\"landcolor\":\"#E5ECF6\",\"subunitcolor\":\"white\",\"showland\":true,\"showlakes\":true,\"lakecolor\":\"white\"},\"title\":{\"x\":0.05},\"mapbox\":{\"style\":\"light\"}}},\"xaxis\":{\"anchor\":\"y\",\"domain\":[0.0,1.0],\"title\":{\"text\":\"Column Name\"}},\"yaxis\":{\"anchor\":\"x\",\"domain\":[0.0,1.0],\"title\":{\"text\":\"NaN Values PCT\"}},\"legend\":{\"tracegroupgap\":0},\"title\":{\"text\":\"NaN Values Present in the DataFrame\"},\"barmode\":\"relative\"},                        {\"responsive\": true}                    ).then(function(){\n",
              "                            \n",
              "var gd = document.getElementById('f32bd3c0-3c07-41f9-ad7b-cc3b6c58ca9c');\n",
              "var x = new MutationObserver(function (mutations, observer) {{\n",
              "        var display = window.getComputedStyle(gd).display;\n",
              "        if (!display || display === 'none') {{\n",
              "            console.log([gd, 'removed!']);\n",
              "            Plotly.purge(gd);\n",
              "            observer.disconnect();\n",
              "        }}\n",
              "}});\n",
              "\n",
              "// Listen for the removal of the full notebook cells\n",
              "var notebookContainer = gd.closest('#notebook-container');\n",
              "if (notebookContainer) {{\n",
              "    x.observe(notebookContainer, {childList: true});\n",
              "}}\n",
              "\n",
              "// Listen for the clearing of the current output cell\n",
              "var outputEl = gd.closest('.output');\n",
              "if (outputEl) {{\n",
              "    x.observe(outputEl, {childList: true});\n",
              "}}\n",
              "\n",
              "                        })                };                            </script>        </div>\n",
              "</body>\n",
              "</html>"
            ]
          },
          "metadata": {}
        }
      ]
    },
    {
      "cell_type": "markdown",
      "source": [
        "### Removing and Filling Columns"
      ],
      "metadata": {
        "id": "l4K7ZAhVrUjA"
      }
    },
    {
      "cell_type": "code",
      "source": [
        "# Removing empty or useless columns\n",
        "df.drop([\"Schedule\", \"What you will learn\", \"Skill gain\"], axis=1, inplace=True)"
      ],
      "metadata": {
        "id": "sb-QiBamAiwq"
      },
      "execution_count": null,
      "outputs": []
    },
    {
      "cell_type": "code",
      "source": [
        "# Removing duplicates\n",
        "df.drop_duplicates(inplace=True)"
      ],
      "metadata": {
        "id": "zyzXUi6ejOjR"
      },
      "execution_count": null,
      "outputs": []
    },
    {
      "cell_type": "code",
      "source": [
        "# Filling the NaN values of the \"Rating\" and \"Review\" columns with 0\n",
        "df[\"Rating\"] = df[\"Rating\"].fillna(0)\n",
        "df[\"Review\"] = df[\"Review\"].fillna(0)\n",
        "\n",
        "# Filling the NaN values of the \"Level\" with Undefined\n",
        "df[\"Level\"] = df[\"Level\"].fillna(\"Undefined\")"
      ],
      "metadata": {
        "id": "IGPiXC2VjQkl"
      },
      "execution_count": null,
      "outputs": []
    },
    {
      "cell_type": "code",
      "source": [
        "# Removing the word \"level\"\n",
        "df[\"Level\"] = df[\"Level\"].apply(lambda x: x.replace(\" level\", \"\"))\n",
        "\n",
        "# Removing the word \"reviews\" and commas\n",
        "df[\"Review\"] = df[\"Review\"].apply(lambda x: str(x).replace(\" reviews\", \"\").replace(\",\", \"\"))\n",
        "# Converting the \"Review\" column type to int\n",
        "df[\"Review\"] = df[\"Review\"].astype(\"int\")"
      ],
      "metadata": {
        "id": "AiPJ3XbskUV_"
      },
      "execution_count": null,
      "outputs": []
    },
    {
      "cell_type": "code",
      "source": [
        "# Remove NaN values from \"Duration\" column\n",
        "df.dropna(subset=[\"Duration\"], inplace=True)"
      ],
      "metadata": {
        "id": "KtFfyLdYkVX4"
      },
      "execution_count": null,
      "outputs": []
    },
    {
      "cell_type": "markdown",
      "source": [
        "### Converting the “Duration” Column to Total Hours"
      ],
      "metadata": {
        "id": "nK8HFGVKRX9w"
      }
    },
    {
      "cell_type": "code",
      "source": [
        "# Function to convert time into total hours\n",
        "def total_hours(time):\n",
        "    # Pattern for \"X months at Y hours a week\"\n",
        "    match = re.match(r\"(\\d+) months at (\\d+) hours a week\", time)\n",
        "\n",
        "    if match:\n",
        "        months = float(match.group(1))\n",
        "        hours_per_week = float(match.group(2))\n",
        "\n",
        "        return months * 4 * hours_per_week\n",
        "\n",
        "    # Pattern for \"Approx. X hours to complete\" or \"X hours (approximately)\"\n",
        "    match = re.match(r\"Approx\\. (\\d+) hours? to complete|(\\d+) hours? \\(approximately\", time)\n",
        "\n",
        "    if match:\n",
        "        return float(match.group(1) if match.group(1) else match.group(2))\n",
        "\n",
        "    # Pattern for \"X hours\"\n",
        "    match = re.match(r\"(\\d+(?:\\.\\d+)?) hours?\", time)\n",
        "\n",
        "    if match:\n",
        "        hours = float(match.group(1))\n",
        "\n",
        "        return hours\n",
        "\n",
        "    # Pattern for \"X hour and Y minutes\"\n",
        "    match = re.match(r\"(\\d+) hour and (\\d+) minutes\", time)\n",
        "\n",
        "    if match:\n",
        "        hours = float(match.group(1))\n",
        "        minutes = float(match.group(2))\n",
        "\n",
        "        return hours + minutes / 60\n",
        "\n",
        "    # Pattern for \"X week of study, Y hours\"\n",
        "    match = re.match(r\"(\\d+) week of study, (\\d+(?:\\.\\d+)?) hours\", time)\n",
        "\n",
        "    if match:\n",
        "        weeks = float(match.group(1))\n",
        "        hours_per_week = float(match.group(2))\n",
        "\n",
        "        return weeks * hours_per_week"
      ],
      "metadata": {
        "id": "COC7VoTNR5Cu"
      },
      "execution_count": null,
      "outputs": []
    },
    {
      "cell_type": "code",
      "source": [
        "# Applying the function in \"Duration\" column\n",
        "df[\"Duration\"] = df[\"Duration\"].apply(total_hours)\n",
        "\n",
        "# Drop the useless columns\n",
        "df.dropna(subset=[\"Duration\"], inplace=True)"
      ],
      "metadata": {
        "id": "n83CGnSFU78p"
      },
      "execution_count": null,
      "outputs": []
    },
    {
      "cell_type": "markdown",
      "source": [
        "# Data Cleaning Result"
      ],
      "metadata": {
        "id": "qTTtsxSJlCYt"
      }
    },
    {
      "cell_type": "code",
      "source": [
        "print(f\"Shape: {df.shape}\")\n",
        "print(f\"Removed Columns: Schedule, What you will learn, Skill gain\")\n",
        "print(f\"Duplicates: {df.duplicated().sum()}\")\n",
        "print(f\"NaN Values: {df.isna().values.any()}\")"
      ],
      "metadata": {
        "colab": {
          "base_uri": "https://localhost:8080/"
        },
        "id": "0HGs80AGlDwg",
        "outputId": "e793292a-1953-43af-cea8-bfd0661abef4"
      },
      "execution_count": null,
      "outputs": [
        {
          "output_type": "stream",
          "name": "stdout",
          "text": [
            "Shape: (8451, 10)\n",
            "Removed Columns: Schedule, What you will learn, Skill gain\n",
            "Duplicates: 0\n",
            "NaN Values: False\n"
          ]
        }
      ]
    },
    {
      "cell_type": "code",
      "source": [
        "df.head()"
      ],
      "metadata": {
        "colab": {
          "base_uri": "https://localhost:8080/",
          "height": 293
        },
        "id": "fY6PyQBOlExc",
        "outputId": "a7d22946-f0f9-4d00-ad1b-12130eedbd4a"
      },
      "execution_count": null,
      "outputs": [
        {
          "output_type": "execute_result",
          "data": {
            "text/plain": [
              "                                        Course Title  Rating     Level  \\\n",
              "0                                  Fashion as Design     4.8  Beginner   \n",
              "1                             Modern American Poetry     4.4  Beginner   \n",
              "2                          Pixel Art for Video Games     4.5  Beginner   \n",
              "3    Distribución digital de la música independiente     0.0  Beginner   \n",
              "4  The Blues: Understanding and Performing an Ame...     4.8  Beginner   \n",
              "\n",
              "   Duration  Review                                            Modules  \\\n",
              "0      20.0    2813  ['Introduction', 'Heroes', 'Silhouettes', 'Cou...   \n",
              "1      34.0     100  ['Orientation', 'Module 1', 'Module 2', 'Modul...   \n",
              "2       9.0     227  ['Week 1: Introduction to Pixel Art', 'Week 2:...   \n",
              "3       8.0       0   ['Semana 1', 'Semana 2', 'Semana 3', 'Semana 4']   \n",
              "4      11.0     582  ['Blues Progressions – Theory and Practice ', ...   \n",
              "\n",
              "                                          Instructor  \\\n",
              "0  ['Anna Burckhardt', 'Paola Antonelli', 'Michel...   \n",
              "1                                    ['Cary Nelson']   \n",
              "2             ['Andrew Dennis', 'Ricardo Guimaraes']   \n",
              "3                      ['Eduardo de la Vara Brown.']   \n",
              "4                              ['Dariusz Terefenko']   \n",
              "\n",
              "                                       Offered By              Keyword  \\\n",
              "0                    ['The Museum of Modern Art']  Arts and Humanities   \n",
              "1  ['University of Illinois at Urbana-Champaign']  Arts and Humanities   \n",
              "2                   ['Michigan State University']  Arts and Humanities   \n",
              "3                        ['SAE Institute México']  Arts and Humanities   \n",
              "4                     ['University of Rochester']  Arts and Humanities   \n",
              "\n",
              "                                          Course Url  \n",
              "0      https://www.coursera.org/learn/fashion-design  \n",
              "1  https://www.coursera.org/learn/modern-american...  \n",
              "2  https://www.coursera.org/learn/pixel-art-video...  \n",
              "3  https://www.coursera.org/learn/distribucion-di...  \n",
              "4           https://www.coursera.org/learn/the-blues  "
            ],
            "text/html": [
              "\n",
              "  <div id=\"df-9aede06a-6ceb-4838-8463-af5fda438c70\" class=\"colab-df-container\">\n",
              "    <div>\n",
              "<style scoped>\n",
              "    .dataframe tbody tr th:only-of-type {\n",
              "        vertical-align: middle;\n",
              "    }\n",
              "\n",
              "    .dataframe tbody tr th {\n",
              "        vertical-align: top;\n",
              "    }\n",
              "\n",
              "    .dataframe thead th {\n",
              "        text-align: right;\n",
              "    }\n",
              "</style>\n",
              "<table border=\"1\" class=\"dataframe\">\n",
              "  <thead>\n",
              "    <tr style=\"text-align: right;\">\n",
              "      <th></th>\n",
              "      <th>Course Title</th>\n",
              "      <th>Rating</th>\n",
              "      <th>Level</th>\n",
              "      <th>Duration</th>\n",
              "      <th>Review</th>\n",
              "      <th>Modules</th>\n",
              "      <th>Instructor</th>\n",
              "      <th>Offered By</th>\n",
              "      <th>Keyword</th>\n",
              "      <th>Course Url</th>\n",
              "    </tr>\n",
              "  </thead>\n",
              "  <tbody>\n",
              "    <tr>\n",
              "      <th>0</th>\n",
              "      <td>Fashion as Design</td>\n",
              "      <td>4.8</td>\n",
              "      <td>Beginner</td>\n",
              "      <td>20.0</td>\n",
              "      <td>2813</td>\n",
              "      <td>['Introduction', 'Heroes', 'Silhouettes', 'Cou...</td>\n",
              "      <td>['Anna Burckhardt', 'Paola Antonelli', 'Michel...</td>\n",
              "      <td>['The Museum of Modern Art']</td>\n",
              "      <td>Arts and Humanities</td>\n",
              "      <td>https://www.coursera.org/learn/fashion-design</td>\n",
              "    </tr>\n",
              "    <tr>\n",
              "      <th>1</th>\n",
              "      <td>Modern American Poetry</td>\n",
              "      <td>4.4</td>\n",
              "      <td>Beginner</td>\n",
              "      <td>34.0</td>\n",
              "      <td>100</td>\n",
              "      <td>['Orientation', 'Module 1', 'Module 2', 'Modul...</td>\n",
              "      <td>['Cary Nelson']</td>\n",
              "      <td>['University of Illinois at Urbana-Champaign']</td>\n",
              "      <td>Arts and Humanities</td>\n",
              "      <td>https://www.coursera.org/learn/modern-american...</td>\n",
              "    </tr>\n",
              "    <tr>\n",
              "      <th>2</th>\n",
              "      <td>Pixel Art for Video Games</td>\n",
              "      <td>4.5</td>\n",
              "      <td>Beginner</td>\n",
              "      <td>9.0</td>\n",
              "      <td>227</td>\n",
              "      <td>['Week 1: Introduction to Pixel Art', 'Week 2:...</td>\n",
              "      <td>['Andrew Dennis', 'Ricardo Guimaraes']</td>\n",
              "      <td>['Michigan State University']</td>\n",
              "      <td>Arts and Humanities</td>\n",
              "      <td>https://www.coursera.org/learn/pixel-art-video...</td>\n",
              "    </tr>\n",
              "    <tr>\n",
              "      <th>3</th>\n",
              "      <td>Distribución digital de la música independiente</td>\n",
              "      <td>0.0</td>\n",
              "      <td>Beginner</td>\n",
              "      <td>8.0</td>\n",
              "      <td>0</td>\n",
              "      <td>['Semana 1', 'Semana 2', 'Semana 3', 'Semana 4']</td>\n",
              "      <td>['Eduardo de la Vara Brown.']</td>\n",
              "      <td>['SAE Institute México']</td>\n",
              "      <td>Arts and Humanities</td>\n",
              "      <td>https://www.coursera.org/learn/distribucion-di...</td>\n",
              "    </tr>\n",
              "    <tr>\n",
              "      <th>4</th>\n",
              "      <td>The Blues: Understanding and Performing an Ame...</td>\n",
              "      <td>4.8</td>\n",
              "      <td>Beginner</td>\n",
              "      <td>11.0</td>\n",
              "      <td>582</td>\n",
              "      <td>['Blues Progressions – Theory and Practice ', ...</td>\n",
              "      <td>['Dariusz Terefenko']</td>\n",
              "      <td>['University of Rochester']</td>\n",
              "      <td>Arts and Humanities</td>\n",
              "      <td>https://www.coursera.org/learn/the-blues</td>\n",
              "    </tr>\n",
              "  </tbody>\n",
              "</table>\n",
              "</div>\n",
              "    <div class=\"colab-df-buttons\">\n",
              "\n",
              "  <div class=\"colab-df-container\">\n",
              "    <button class=\"colab-df-convert\" onclick=\"convertToInteractive('df-9aede06a-6ceb-4838-8463-af5fda438c70')\"\n",
              "            title=\"Convert this dataframe to an interactive table.\"\n",
              "            style=\"display:none;\">\n",
              "\n",
              "  <svg xmlns=\"http://www.w3.org/2000/svg\" height=\"24px\" viewBox=\"0 -960 960 960\">\n",
              "    <path d=\"M120-120v-720h720v720H120Zm60-500h600v-160H180v160Zm220 220h160v-160H400v160Zm0 220h160v-160H400v160ZM180-400h160v-160H180v160Zm440 0h160v-160H620v160ZM180-180h160v-160H180v160Zm440 0h160v-160H620v160Z\"/>\n",
              "  </svg>\n",
              "    </button>\n",
              "\n",
              "  <style>\n",
              "    .colab-df-container {\n",
              "      display:flex;\n",
              "      gap: 12px;\n",
              "    }\n",
              "\n",
              "    .colab-df-convert {\n",
              "      background-color: #E8F0FE;\n",
              "      border: none;\n",
              "      border-radius: 50%;\n",
              "      cursor: pointer;\n",
              "      display: none;\n",
              "      fill: #1967D2;\n",
              "      height: 32px;\n",
              "      padding: 0 0 0 0;\n",
              "      width: 32px;\n",
              "    }\n",
              "\n",
              "    .colab-df-convert:hover {\n",
              "      background-color: #E2EBFA;\n",
              "      box-shadow: 0px 1px 2px rgba(60, 64, 67, 0.3), 0px 1px 3px 1px rgba(60, 64, 67, 0.15);\n",
              "      fill: #174EA6;\n",
              "    }\n",
              "\n",
              "    .colab-df-buttons div {\n",
              "      margin-bottom: 4px;\n",
              "    }\n",
              "\n",
              "    [theme=dark] .colab-df-convert {\n",
              "      background-color: #3B4455;\n",
              "      fill: #D2E3FC;\n",
              "    }\n",
              "\n",
              "    [theme=dark] .colab-df-convert:hover {\n",
              "      background-color: #434B5C;\n",
              "      box-shadow: 0px 1px 3px 1px rgba(0, 0, 0, 0.15);\n",
              "      filter: drop-shadow(0px 1px 2px rgba(0, 0, 0, 0.3));\n",
              "      fill: #FFFFFF;\n",
              "    }\n",
              "  </style>\n",
              "\n",
              "    <script>\n",
              "      const buttonEl =\n",
              "        document.querySelector('#df-9aede06a-6ceb-4838-8463-af5fda438c70 button.colab-df-convert');\n",
              "      buttonEl.style.display =\n",
              "        google.colab.kernel.accessAllowed ? 'block' : 'none';\n",
              "\n",
              "      async function convertToInteractive(key) {\n",
              "        const element = document.querySelector('#df-9aede06a-6ceb-4838-8463-af5fda438c70');\n",
              "        const dataTable =\n",
              "          await google.colab.kernel.invokeFunction('convertToInteractive',\n",
              "                                                    [key], {});\n",
              "        if (!dataTable) return;\n",
              "\n",
              "        const docLinkHtml = 'Like what you see? Visit the ' +\n",
              "          '<a target=\"_blank\" href=https://colab.research.google.com/notebooks/data_table.ipynb>data table notebook</a>'\n",
              "          + ' to learn more about interactive tables.';\n",
              "        element.innerHTML = '';\n",
              "        dataTable['output_type'] = 'display_data';\n",
              "        await google.colab.output.renderOutput(dataTable, element);\n",
              "        const docLink = document.createElement('div');\n",
              "        docLink.innerHTML = docLinkHtml;\n",
              "        element.appendChild(docLink);\n",
              "      }\n",
              "    </script>\n",
              "  </div>\n",
              "\n",
              "\n",
              "<div id=\"df-2d3823d2-06c3-4829-9663-7daea6483ba4\">\n",
              "  <button class=\"colab-df-quickchart\" onclick=\"quickchart('df-2d3823d2-06c3-4829-9663-7daea6483ba4')\"\n",
              "            title=\"Suggest charts\"\n",
              "            style=\"display:none;\">\n",
              "\n",
              "<svg xmlns=\"http://www.w3.org/2000/svg\" height=\"24px\"viewBox=\"0 0 24 24\"\n",
              "     width=\"24px\">\n",
              "    <g>\n",
              "        <path d=\"M19 3H5c-1.1 0-2 .9-2 2v14c0 1.1.9 2 2 2h14c1.1 0 2-.9 2-2V5c0-1.1-.9-2-2-2zM9 17H7v-7h2v7zm4 0h-2V7h2v10zm4 0h-2v-4h2v4z\"/>\n",
              "    </g>\n",
              "</svg>\n",
              "  </button>\n",
              "\n",
              "<style>\n",
              "  .colab-df-quickchart {\n",
              "      --bg-color: #E8F0FE;\n",
              "      --fill-color: #1967D2;\n",
              "      --hover-bg-color: #E2EBFA;\n",
              "      --hover-fill-color: #174EA6;\n",
              "      --disabled-fill-color: #AAA;\n",
              "      --disabled-bg-color: #DDD;\n",
              "  }\n",
              "\n",
              "  [theme=dark] .colab-df-quickchart {\n",
              "      --bg-color: #3B4455;\n",
              "      --fill-color: #D2E3FC;\n",
              "      --hover-bg-color: #434B5C;\n",
              "      --hover-fill-color: #FFFFFF;\n",
              "      --disabled-bg-color: #3B4455;\n",
              "      --disabled-fill-color: #666;\n",
              "  }\n",
              "\n",
              "  .colab-df-quickchart {\n",
              "    background-color: var(--bg-color);\n",
              "    border: none;\n",
              "    border-radius: 50%;\n",
              "    cursor: pointer;\n",
              "    display: none;\n",
              "    fill: var(--fill-color);\n",
              "    height: 32px;\n",
              "    padding: 0;\n",
              "    width: 32px;\n",
              "  }\n",
              "\n",
              "  .colab-df-quickchart:hover {\n",
              "    background-color: var(--hover-bg-color);\n",
              "    box-shadow: 0 1px 2px rgba(60, 64, 67, 0.3), 0 1px 3px 1px rgba(60, 64, 67, 0.15);\n",
              "    fill: var(--button-hover-fill-color);\n",
              "  }\n",
              "\n",
              "  .colab-df-quickchart-complete:disabled,\n",
              "  .colab-df-quickchart-complete:disabled:hover {\n",
              "    background-color: var(--disabled-bg-color);\n",
              "    fill: var(--disabled-fill-color);\n",
              "    box-shadow: none;\n",
              "  }\n",
              "\n",
              "  .colab-df-spinner {\n",
              "    border: 2px solid var(--fill-color);\n",
              "    border-color: transparent;\n",
              "    border-bottom-color: var(--fill-color);\n",
              "    animation:\n",
              "      spin 1s steps(1) infinite;\n",
              "  }\n",
              "\n",
              "  @keyframes spin {\n",
              "    0% {\n",
              "      border-color: transparent;\n",
              "      border-bottom-color: var(--fill-color);\n",
              "      border-left-color: var(--fill-color);\n",
              "    }\n",
              "    20% {\n",
              "      border-color: transparent;\n",
              "      border-left-color: var(--fill-color);\n",
              "      border-top-color: var(--fill-color);\n",
              "    }\n",
              "    30% {\n",
              "      border-color: transparent;\n",
              "      border-left-color: var(--fill-color);\n",
              "      border-top-color: var(--fill-color);\n",
              "      border-right-color: var(--fill-color);\n",
              "    }\n",
              "    40% {\n",
              "      border-color: transparent;\n",
              "      border-right-color: var(--fill-color);\n",
              "      border-top-color: var(--fill-color);\n",
              "    }\n",
              "    60% {\n",
              "      border-color: transparent;\n",
              "      border-right-color: var(--fill-color);\n",
              "    }\n",
              "    80% {\n",
              "      border-color: transparent;\n",
              "      border-right-color: var(--fill-color);\n",
              "      border-bottom-color: var(--fill-color);\n",
              "    }\n",
              "    90% {\n",
              "      border-color: transparent;\n",
              "      border-bottom-color: var(--fill-color);\n",
              "    }\n",
              "  }\n",
              "</style>\n",
              "\n",
              "  <script>\n",
              "    async function quickchart(key) {\n",
              "      const quickchartButtonEl =\n",
              "        document.querySelector('#' + key + ' button');\n",
              "      quickchartButtonEl.disabled = true;  // To prevent multiple clicks.\n",
              "      quickchartButtonEl.classList.add('colab-df-spinner');\n",
              "      try {\n",
              "        const charts = await google.colab.kernel.invokeFunction(\n",
              "            'suggestCharts', [key], {});\n",
              "      } catch (error) {\n",
              "        console.error('Error during call to suggestCharts:', error);\n",
              "      }\n",
              "      quickchartButtonEl.classList.remove('colab-df-spinner');\n",
              "      quickchartButtonEl.classList.add('colab-df-quickchart-complete');\n",
              "    }\n",
              "    (() => {\n",
              "      let quickchartButtonEl =\n",
              "        document.querySelector('#df-2d3823d2-06c3-4829-9663-7daea6483ba4 button');\n",
              "      quickchartButtonEl.style.display =\n",
              "        google.colab.kernel.accessAllowed ? 'block' : 'none';\n",
              "    })();\n",
              "  </script>\n",
              "</div>\n",
              "\n",
              "    </div>\n",
              "  </div>\n"
            ],
            "application/vnd.google.colaboratory.intrinsic+json": {
              "type": "dataframe",
              "variable_name": "df",
              "summary": "{\n  \"name\": \"df\",\n  \"rows\": 8451,\n  \"fields\": [\n    {\n      \"column\": \"Course Title\",\n      \"properties\": {\n        \"dtype\": \"string\",\n        \"num_unique_values\": 6161,\n        \"samples\": [\n          \"Reporting extra-financier et strat\\u00e9gie RSE\",\n          \"The Piano Sonata: Beethoven and the Romantics\",\n          \"Google Workspace for Education: Getting Started\"\n        ],\n        \"semantic_type\": \"\",\n        \"description\": \"\"\n      }\n    },\n    {\n      \"column\": \"Rating\",\n      \"properties\": {\n        \"dtype\": \"number\",\n        \"std\": 1.6359997886162976,\n        \"min\": 0.0,\n        \"max\": 5.0,\n        \"num_unique_values\": 22,\n        \"samples\": [\n          4.8,\n          3.8,\n          4.3\n        ],\n        \"semantic_type\": \"\",\n        \"description\": \"\"\n      }\n    },\n    {\n      \"column\": \"Level\",\n      \"properties\": {\n        \"dtype\": \"category\",\n        \"num_unique_values\": 4,\n        \"samples\": [\n          \"Intermediate\",\n          \"Advanced\",\n          \"Beginner\"\n        ],\n        \"semantic_type\": \"\",\n        \"description\": \"\"\n      }\n    },\n    {\n      \"column\": \"Duration\",\n      \"properties\": {\n        \"dtype\": \"number\",\n        \"std\": 39.79959566039326,\n        \"min\": 1.0,\n        \"max\": 480.0,\n        \"num_unique_values\": 107,\n        \"samples\": [\n          56.0,\n          26.0,\n          11.0\n        ],\n        \"semantic_type\": \"\",\n        \"description\": \"\"\n      }\n    },\n    {\n      \"column\": \"Review\",\n      \"properties\": {\n        \"dtype\": \"number\",\n        \"std\": 10217,\n        \"min\": 0,\n        \"max\": 225830,\n        \"num_unique_values\": 1861,\n        \"samples\": [\n          83,\n          10338,\n          3374\n        ],\n        \"semantic_type\": \"\",\n        \"description\": \"\"\n      }\n    },\n    {\n      \"column\": \"Modules\",\n      \"properties\": {\n        \"dtype\": \"string\",\n        \"num_unique_values\": 5689,\n        \"samples\": [\n          \"['Data Warehouses, Data Marts, and Data Lakes', 'Designing, Modeling and Implementing Data Warehouses', 'Data Warehouse Analytics', 'Final Assignment and Final Quiz']\",\n          \"['Set up and cut a profile', 'Internal and external grooving toolpaths', 'Threading, chamfering and C-Axis operations for turning', 'CNC lathe stock handling']\",\n          \"['Welcome to the Course', 'Climate Change and Cities', 'Defining and Assessing Urban Risk and Vulnerability', 'Climate Change Adaption and Resilience', 'Planning for Climate Change', 'Decision Making Analysis for Climate Change', 'Final Assessment: Developing a Climate Change Action Plan ']\"\n        ],\n        \"semantic_type\": \"\",\n        \"description\": \"\"\n      }\n    },\n    {\n      \"column\": \"Instructor\",\n      \"properties\": {\n        \"dtype\": \"category\",\n        \"num_unique_values\": 3545,\n        \"samples\": [\n          \"['Chris Caillouet']\",\n          \"['Mauro Herrera Machuca', 'Cristian Manuel Ba\\u00f1uelos Hinojosa']\",\n          \"['Dr. Jessica Kendall-Bar']\"\n        ],\n        \"semantic_type\": \"\",\n        \"description\": \"\"\n      }\n    },\n    {\n      \"column\": \"Offered By\",\n      \"properties\": {\n        \"dtype\": \"category\",\n        \"num_unique_values\": 395,\n        \"samples\": [\n          \"['Coursera Project Network']\",\n          \"['PepsiCo']\",\n          \"['Universiteit Leiden', 'Meertens instituut (KNAW)']\"\n        ],\n        \"semantic_type\": \"\",\n        \"description\": \"\"\n      }\n    },\n    {\n      \"column\": \"Keyword\",\n      \"properties\": {\n        \"dtype\": \"category\",\n        \"num_unique_values\": 10,\n        \"samples\": [\n          \"Physical Science and Engineering\",\n          \"Business\",\n          \"Information Technology\"\n        ],\n        \"semantic_type\": \"\",\n        \"description\": \"\"\n      }\n    },\n    {\n      \"column\": \"Course Url\",\n      \"properties\": {\n        \"dtype\": \"string\",\n        \"num_unique_values\": 6173,\n        \"samples\": [\n          \"https://www.coursera.org/learn/take-action-from-protest-to-policy\",\n          \"https://www.coursera.org/learn/medical-billing-coding-essentials\",\n          \"https://www.coursera.org/specializations/javascript-beginner\"\n        ],\n        \"semantic_type\": \"\",\n        \"description\": \"\"\n      }\n    }\n  ]\n}"
            }
          },
          "metadata": {},
          "execution_count": 15
        }
      ]
    },
    {
      "cell_type": "code",
      "source": [
        "df.info()"
      ],
      "metadata": {
        "colab": {
          "base_uri": "https://localhost:8080/"
        },
        "id": "HXxehlmflFe4",
        "outputId": "ce32012a-1842-4fae-e45d-7cc4dec21d99"
      },
      "execution_count": null,
      "outputs": [
        {
          "output_type": "stream",
          "name": "stdout",
          "text": [
            "<class 'pandas.core.frame.DataFrame'>\n",
            "Int64Index: 8451 entries, 0 to 8694\n",
            "Data columns (total 10 columns):\n",
            " #   Column        Non-Null Count  Dtype  \n",
            "---  ------        --------------  -----  \n",
            " 0   Course Title  8451 non-null   object \n",
            " 1   Rating        8451 non-null   float64\n",
            " 2   Level         8451 non-null   object \n",
            " 3   Duration      8451 non-null   float64\n",
            " 4   Review        8451 non-null   int64  \n",
            " 5   Modules       8451 non-null   object \n",
            " 6   Instructor    8451 non-null   object \n",
            " 7   Offered By    8451 non-null   object \n",
            " 8   Keyword       8451 non-null   object \n",
            " 9   Course Url    8451 non-null   object \n",
            "dtypes: float64(2), int64(1), object(7)\n",
            "memory usage: 726.3+ KB\n"
          ]
        }
      ]
    }
  ]
}